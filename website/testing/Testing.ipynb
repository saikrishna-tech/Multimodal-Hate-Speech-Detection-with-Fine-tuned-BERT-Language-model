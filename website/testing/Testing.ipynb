{
 "cells": [
  {
   "cell_type": "code",
   "execution_count": 5,
   "id": "ae4607bb",
   "metadata": {},
   "outputs": [],
   "source": [
    "import tensorflow as tf\n",
    "import tensorflow_text as text\n",
    "import numpy as np\n",
    "import speech_recognition as sr\n",
    "import tensorflow_hub as hub\n",
    "from flask import render_template\n",
    "import pyaudio\n",
    "import wave\n",
    "import threading\n",
    "import os"
   ]
  },
  {
   "cell_type": "code",
   "execution_count": 8,
   "id": "457cb02d",
   "metadata": {},
   "outputs": [
    {
     "name": "stdout",
     "output_type": "stream",
     "text": [
      "After loading model\n"
     ]
    }
   ],
   "source": [
    "# Load pre-trained BERT model from TensorFlow Hub\n",
    "bert_preprocess = hub.load(\"https://tfhub.dev/tensorflow/bert_en_uncased_preprocess/3\")\n",
    "bert_encoder = hub.load(\"https://tfhub.dev/tensorflow/bert_en_uncased_L-12_H-768_A-12/3\")\n",
    "\n",
    "# Define a custom Keras layer for BERT preprocessing\n",
    "class BERTPreprocessLayer(tf.keras.layers.Layer):\n",
    "    def call(self, inputs):\n",
    "        return bert_preprocess(inputs)\n",
    "\n",
    "# Define a custom Keras layer for BERT encoding\n",
    "class BERTEncoderLayer(tf.keras.layers.Layer):\n",
    "    def call(self, inputs):\n",
    "        return bert_encoder(inputs)\n",
    "\n",
    "#print(\"Before loading model\")\n",
    "loaded_model = tf.keras.models.load_model(\n",
    "    'hate_speech_classification_model_09_30.h5',\n",
    "    custom_objects={\n",
    "        'BERTPreprocessLayer': BERTPreprocessLayer,\n",
    "        'BERTEncoderLayer': BERTEncoderLayer\n",
    "    }\n",
    ")\n",
    "print(\"After loading model\")"
   ]
  },
  {
   "cell_type": "code",
   "execution_count": 11,
   "id": "fb05a761",
   "metadata": {},
   "outputs": [
    {
     "name": "stdout",
     "output_type": "stream",
     "text": [
      "1/1 [==============================] - 1s 1s/step\n",
      "The Sentiment detected is Not Offence\n"
     ]
    }
   ],
   "source": [
    "def analyze_text_sentiment(input_text):\n",
    "    prediction = loaded_model.predict([input_text])   \n",
    "    return prediction\n",
    "\n",
    "input_text = \"i am very good boy\"\n",
    "\n",
    "prediction = analyze_text_sentiment(input_text)\n",
    "if prediction[0][0]>0.7:\n",
    "    print(\"The Sentiment detected is Not Offence\")\n",
    "else:\n",
    "    print(\"The Sentiment detected is Offence\")"
   ]
  },
  {
   "cell_type": "code",
   "execution_count": null,
   "id": "8dea3123",
   "metadata": {},
   "outputs": [],
   "source": []
  }
 ],
 "metadata": {
  "kernelspec": {
   "display_name": "Python 3 (ipykernel)",
   "language": "python",
   "name": "python3"
  },
  "language_info": {
   "codemirror_mode": {
    "name": "ipython",
    "version": 3
   },
   "file_extension": ".py",
   "mimetype": "text/x-python",
   "name": "python",
   "nbconvert_exporter": "python",
   "pygments_lexer": "ipython3",
   "version": "3.10.2"
  }
 },
 "nbformat": 4,
 "nbformat_minor": 5
}
