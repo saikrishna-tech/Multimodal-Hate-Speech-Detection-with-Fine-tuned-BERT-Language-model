{
 "cells": [
  {
   "cell_type": "markdown",
   "metadata": {
    "id": "jwVXrMh2RXNL"
   },
   "source": [
    "<h2 align=\"center\">BERT tutorial: Classify spam vs no spam emails</h2>"
   ]
  },
  {
   "cell_type": "code",
   "execution_count": 22,
   "metadata": {
    "id": "DvHoquhwRXNN"
   },
   "outputs": [
    {
     "data": {
      "text/html": [
       "<div>\n",
       "<style scoped>\n",
       "    .dataframe tbody tr th:only-of-type {\n",
       "        vertical-align: middle;\n",
       "    }\n",
       "\n",
       "    .dataframe tbody tr th {\n",
       "        vertical-align: top;\n",
       "    }\n",
       "\n",
       "    .dataframe thead th {\n",
       "        text-align: right;\n",
       "    }\n",
       "</style>\n",
       "<table border=\"1\" class=\"dataframe\">\n",
       "  <thead>\n",
       "    <tr style=\"text-align: right;\">\n",
       "      <th></th>\n",
       "      <th>Review</th>\n",
       "      <th>Liked</th>\n",
       "    </tr>\n",
       "  </thead>\n",
       "  <tbody>\n",
       "    <tr>\n",
       "      <th>0</th>\n",
       "      <td>Wow... Loved this place.</td>\n",
       "      <td>1</td>\n",
       "    </tr>\n",
       "    <tr>\n",
       "      <th>1</th>\n",
       "      <td>Eww</td>\n",
       "      <td>0</td>\n",
       "    </tr>\n",
       "    <tr>\n",
       "      <th>2</th>\n",
       "      <td>Crust is not good.</td>\n",
       "      <td>0</td>\n",
       "    </tr>\n",
       "    <tr>\n",
       "      <th>3</th>\n",
       "      <td>Not tasty and the texture was just nasty.</td>\n",
       "      <td>0</td>\n",
       "    </tr>\n",
       "    <tr>\n",
       "      <th>4</th>\n",
       "      <td>Stopped by during the late May bank holiday of...</td>\n",
       "      <td>1</td>\n",
       "    </tr>\n",
       "  </tbody>\n",
       "</table>\n",
       "</div>"
      ],
      "text/plain": [
       "                                              Review  Liked\n",
       "0                           Wow... Loved this place.      1\n",
       "1                                                Eww      0\n",
       "2                                 Crust is not good.      0\n",
       "3          Not tasty and the texture was just nasty.      0\n",
       "4  Stopped by during the late May bank holiday of...      1"
      ]
     },
     "execution_count": 22,
     "metadata": {},
     "output_type": "execute_result"
    }
   ],
   "source": [
    "import tensorflow as tf\n",
    "import tensorflow_hub as hub\n",
    "import tensorflow_text as text\n",
    "\n",
    "import pandas as pd\n",
    "\n",
    "df = pd.read_csv(\"Restaurant_Reviews.tsv\",delimiter = \"\\t\", quoting = 3)\n",
    "df.head(5)"
   ]
  },
  {
   "cell_type": "code",
   "execution_count": 23,
   "metadata": {
    "colab": {
     "base_uri": "https://localhost:8080/",
     "height": 175
    },
    "id": "FcQL1a_TRXNP",
    "outputId": "c3565e8e-8dc0-4b82-a0a7-bd04570c24b0",
    "scrolled": true
   },
   "outputs": [
    {
     "data": {
      "text/html": [
       "<div>\n",
       "<style scoped>\n",
       "    .dataframe tbody tr th:only-of-type {\n",
       "        vertical-align: middle;\n",
       "    }\n",
       "\n",
       "    .dataframe tbody tr th {\n",
       "        vertical-align: top;\n",
       "    }\n",
       "\n",
       "    .dataframe thead tr th {\n",
       "        text-align: left;\n",
       "    }\n",
       "\n",
       "    .dataframe thead tr:last-of-type th {\n",
       "        text-align: right;\n",
       "    }\n",
       "</style>\n",
       "<table border=\"1\" class=\"dataframe\">\n",
       "  <thead>\n",
       "    <tr>\n",
       "      <th></th>\n",
       "      <th colspan=\"4\" halign=\"left\">Review</th>\n",
       "    </tr>\n",
       "    <tr>\n",
       "      <th></th>\n",
       "      <th>count</th>\n",
       "      <th>unique</th>\n",
       "      <th>top</th>\n",
       "      <th>freq</th>\n",
       "    </tr>\n",
       "    <tr>\n",
       "      <th>Liked</th>\n",
       "      <th></th>\n",
       "      <th></th>\n",
       "      <th></th>\n",
       "      <th></th>\n",
       "    </tr>\n",
       "  </thead>\n",
       "  <tbody>\n",
       "    <tr>\n",
       "      <th>0</th>\n",
       "      <td>257</td>\n",
       "      <td>256</td>\n",
       "      <td>Not recommended.</td>\n",
       "      <td>2</td>\n",
       "    </tr>\n",
       "    <tr>\n",
       "      <th>1</th>\n",
       "      <td>298</td>\n",
       "      <td>298</td>\n",
       "      <td>Wow... Loved this place.</td>\n",
       "      <td>1</td>\n",
       "    </tr>\n",
       "  </tbody>\n",
       "</table>\n",
       "</div>"
      ],
      "text/plain": [
       "      Review                                      \n",
       "       count unique                       top freq\n",
       "Liked                                             \n",
       "0        257    256        Not recommended.      2\n",
       "1        298    298  Wow... Loved this place.    1"
      ]
     },
     "execution_count": 23,
     "metadata": {},
     "output_type": "execute_result"
    }
   ],
   "source": [
    "df.groupby('Liked').describe()"
   ]
  },
  {
   "cell_type": "code",
   "execution_count": 24,
   "metadata": {
    "colab": {
     "base_uri": "https://localhost:8080/"
    },
    "id": "Ldpc0vp6RXNP",
    "outputId": "6573307b-a419-4a0d-f0a7-b1a441388518"
   },
   "outputs": [
    {
     "data": {
      "text/plain": [
       "1    298\n",
       "0    257\n",
       "Name: Liked, dtype: int64"
      ]
     },
     "execution_count": 24,
     "metadata": {},
     "output_type": "execute_result"
    }
   ],
   "source": [
    "df['Liked'].value_counts()"
   ]
  },
  {
   "cell_type": "code",
   "execution_count": 25,
   "metadata": {
    "colab": {
     "base_uri": "https://localhost:8080/",
     "height": 206
    },
    "id": "9Fal_i6bRXNQ",
    "outputId": "54754603-77e6-4ff8-9e3d-07ebe90063d5"
   },
   "outputs": [
    {
     "data": {
      "text/html": [
       "<div>\n",
       "<style scoped>\n",
       "    .dataframe tbody tr th:only-of-type {\n",
       "        vertical-align: middle;\n",
       "    }\n",
       "\n",
       "    .dataframe tbody tr th {\n",
       "        vertical-align: top;\n",
       "    }\n",
       "\n",
       "    .dataframe thead th {\n",
       "        text-align: right;\n",
       "    }\n",
       "</style>\n",
       "<table border=\"1\" class=\"dataframe\">\n",
       "  <thead>\n",
       "    <tr style=\"text-align: right;\">\n",
       "      <th></th>\n",
       "      <th>Review</th>\n",
       "      <th>Liked</th>\n",
       "      <th>happiness</th>\n",
       "    </tr>\n",
       "  </thead>\n",
       "  <tbody>\n",
       "    <tr>\n",
       "      <th>0</th>\n",
       "      <td>Wow... Loved this place.</td>\n",
       "      <td>1</td>\n",
       "      <td>happy</td>\n",
       "    </tr>\n",
       "    <tr>\n",
       "      <th>1</th>\n",
       "      <td>Eww</td>\n",
       "      <td>0</td>\n",
       "      <td>not happy</td>\n",
       "    </tr>\n",
       "    <tr>\n",
       "      <th>2</th>\n",
       "      <td>Crust is not good.</td>\n",
       "      <td>0</td>\n",
       "      <td>not happy</td>\n",
       "    </tr>\n",
       "    <tr>\n",
       "      <th>3</th>\n",
       "      <td>Not tasty and the texture was just nasty.</td>\n",
       "      <td>0</td>\n",
       "      <td>not happy</td>\n",
       "    </tr>\n",
       "    <tr>\n",
       "      <th>4</th>\n",
       "      <td>Stopped by during the late May bank holiday of...</td>\n",
       "      <td>1</td>\n",
       "      <td>happy</td>\n",
       "    </tr>\n",
       "  </tbody>\n",
       "</table>\n",
       "</div>"
      ],
      "text/plain": [
       "                                              Review  Liked  happiness\n",
       "0                           Wow... Loved this place.      1      happy\n",
       "1                                                Eww      0  not happy\n",
       "2                                 Crust is not good.      0  not happy\n",
       "3          Not tasty and the texture was just nasty.      0  not happy\n",
       "4  Stopped by during the late May bank holiday of...      1      happy"
      ]
     },
     "execution_count": 25,
     "metadata": {},
     "output_type": "execute_result"
    }
   ],
   "source": [
    "def determine_happiness(value):\n",
    "    return 'happy' if value == 1 else 'not happy'\n",
    "\n",
    "# Add a new column 'happiness'\n",
    "df['happiness'] = df['Liked'].apply(determine_happiness)\n",
    "df.head()"
   ]
  },
  {
   "cell_type": "markdown",
   "metadata": {
    "id": "O8sVhVcrRXNR"
   },
   "source": [
    "<h4>Split it into training and test data set</h4>"
   ]
  },
  {
   "cell_type": "code",
   "execution_count": 26,
   "metadata": {
    "id": "U1zS0G_URXNR"
   },
   "outputs": [],
   "source": [
    "from sklearn.model_selection import train_test_split\n",
    "\n",
    "X_train, X_test, y_train, y_test = train_test_split(df['Review'],df['Liked'], random_state=10)"
   ]
  },
  {
   "cell_type": "code",
   "execution_count": 27,
   "metadata": {
    "colab": {
     "base_uri": "https://localhost:8080/"
    },
    "id": "PPiuKIUzRXNR",
    "outputId": "7680c830-34d6-4de8-dd30-30f301edc102",
    "scrolled": true
   },
   "outputs": [
    {
     "data": {
      "text/plain": [
       "188    This movie is so mind-bendingly awful, it coul...\n",
       "351    When a song could explain the emotions of the ...\n",
       "139    The characters were all funny and had the pecu...\n",
       "119    Lewis Black's considerable talent is wasted he...\n",
       "Name: Review, dtype: object"
      ]
     },
     "execution_count": 27,
     "metadata": {},
     "output_type": "execute_result"
    }
   ],
   "source": [
    "X_train.head(4)"
   ]
  },
  {
   "cell_type": "markdown",
   "metadata": {
    "id": "iHanOhRwRXNR"
   },
   "source": [
    "<h4>Now lets import BERT model and get embeding vectors for few sample statements</h4>"
   ]
  },
  {
   "cell_type": "markdown",
   "metadata": {
    "id": "NYDTQWLlRXNR"
   },
   "source": [
    "<h4>Get embeding vectors for few sample words. Compare them using cosine similarity</h4>"
   ]
  },
  {
   "cell_type": "markdown",
   "metadata": {
    "id": "8c2SPV1ERXNS"
   },
   "source": [
    "<h4>Build Model</h4>"
   ]
  },
  {
   "cell_type": "code",
   "execution_count": 28,
   "metadata": {
    "id": "sDnX0jHlRXNS"
   },
   "outputs": [],
   "source": [
    "import tensorflow as tf\n",
    "import tensorflow_hub as hub\n",
    "from tensorflow.keras.layers import LSTM, Bidirectional, Dropout\n",
    "\n",
    "# Load pre-trained BERT model from TensorFlow Hub\n",
    "bert_preprocess = hub.load(\"https://tfhub.dev/tensorflow/bert_en_uncased_preprocess/3\")\n",
    "bert_encoder = hub.load(\"https://tfhub.dev/tensorflow/bert_en_uncased_L-12_H-768_A-12/3\")\n",
    "\n",
    "# Define a custom Keras layer for BERT preprocessing\n",
    "class BERTPreprocessLayer(tf.keras.layers.Layer):\n",
    "    def call(self, inputs):\n",
    "        return bert_preprocess(inputs)\n",
    "\n",
    "# Define a custom Keras layer for BERT encoding\n",
    "class BERTEncoderLayer(tf.keras.layers.Layer):\n",
    "    def call(self, inputs):\n",
    "        return bert_encoder(inputs)\n",
    "\n",
    "# Bert layers\n",
    "text_input = tf.keras.layers.Input(shape=(), dtype=tf.string, name='text')\n",
    "preprocessed_text = BERTPreprocessLayer()(text_input)\n",
    "encoded_text = BERTEncoderLayer()(preprocessed_text)\n",
    "\n",
    "# Extract BERT outputs\n",
    "sequence_output = encoded_text['sequence_output']  # Get BERT's sequence output\n",
    "\n",
    "# Define an RNN layer\n",
    "\n",
    "lstm_layer = LSTM(128, return_sequences=False)\n",
    "\n",
    "# Bidirectional wrapper for LSTM layer\n",
    "bidirectional_lstm = Bidirectional(lstm_layer)(sequence_output)\n",
    "\n",
    "# Dropout layer for regularization\n",
    "dropout = Dropout(0.1)(bidirectional_lstm)\n",
    "\n",
    "# Output layer\n",
    "output = tf.keras.layers.Dense(1, activation='sigmoid')(dropout)\n",
    "\n",
    "# Construct final model\n",
    "model = tf.keras.Model(inputs=text_input, outputs=output)\n"
   ]
  },
  {
   "cell_type": "code",
   "execution_count": 29,
   "metadata": {
    "colab": {
     "base_uri": "https://localhost:8080/"
    },
    "id": "OV7uneFTRXNS",
    "outputId": "8be4d3c0-3cc9-4679-95b5-ac394e4892d1"
   },
   "outputs": [
    {
     "name": "stdout",
     "output_type": "stream",
     "text": [
      "Model: \"model_2\"\n",
      "__________________________________________________________________________________________________\n",
      " Layer (type)                   Output Shape         Param #     Connected to                     \n",
      "==================================================================================================\n",
      " text (InputLayer)              [(None,)]            0           []                               \n",
      "                                                                                                  \n",
      " bert_preprocess_layer_4 (BERTP  {'input_word_ids':   0          ['text[0][0]']                   \n",
      " reprocessLayer)                (None, 128),                                                      \n",
      "                                 'input_type_ids':                                                \n",
      "                                (None, 128),                                                      \n",
      "                                 'input_mask': (Non                                               \n",
      "                                e, 128)}                                                          \n",
      "                                                                                                  \n",
      " bert_encoder_layer_4 (BERTEnco  {'sequence_output':  0          ['bert_preprocess_layer_4[0][0]',\n",
      " derLayer)                       (None, 128, 768),                'bert_preprocess_layer_4[0][1]',\n",
      "                                 'encoder_outputs':               'bert_preprocess_layer_4[0][2]']\n",
      "                                 [(None, 128, 768),                                               \n",
      "                                 (None, 128, 768),                                                \n",
      "                                 (None, 128, 768),                                                \n",
      "                                 (None, 128, 768),                                                \n",
      "                                 (None, 128, 768),                                                \n",
      "                                 (None, 128, 768),                                                \n",
      "                                 (None, 128, 768),                                                \n",
      "                                 (None, 128, 768),                                                \n",
      "                                 (None, 128, 768),                                                \n",
      "                                 (None, 128, 768),                                                \n",
      "                                 (None, 128, 768),                                                \n",
      "                                 (None, 128, 768)],                                               \n",
      "                                 'pooled_output': (                                               \n",
      "                                None, 768),                                                       \n",
      "                                 'default': (None,                                                \n",
      "                                768)}                                                             \n",
      "                                                                                                  \n",
      " bidirectional_3 (Bidirectional  (None, 256)         918528      ['bert_encoder_layer_4[0][14]']  \n",
      " )                                                                                                \n",
      "                                                                                                  \n",
      " dropout_2 (Dropout)            (None, 256)          0           ['bidirectional_3[0][0]']        \n",
      "                                                                                                  \n",
      " dense_2 (Dense)                (None, 1)            257         ['dropout_2[0][0]']              \n",
      "                                                                                                  \n",
      "==================================================================================================\n",
      "Total params: 918,785\n",
      "Trainable params: 918,785\n",
      "Non-trainable params: 0\n",
      "__________________________________________________________________________________________________\n"
     ]
    }
   ],
   "source": [
    "model.summary()"
   ]
  },
  {
   "cell_type": "code",
   "execution_count": 30,
   "metadata": {
    "id": "sIByHaNERXNT"
   },
   "outputs": [],
   "source": [
    "METRICS = [\n",
    "      tf.keras.metrics.BinaryAccuracy(name='accuracy'),\n",
    "      tf.keras.metrics.Precision(name='precision'),\n",
    "      tf.keras.metrics.Recall(name='recall')\n",
    "]\n",
    "\n",
    "model.compile(optimizer='adam',\n",
    "              loss='binary_crossentropy',\n",
    "              metrics=METRICS)"
   ]
  },
  {
   "cell_type": "markdown",
   "metadata": {
    "id": "NuI2_2vsRXNT"
   },
   "source": [
    "<h4>Train the model</h4>"
   ]
  },
  {
   "cell_type": "code",
   "execution_count": 31,
   "metadata": {},
   "outputs": [
    {
     "name": "stdout",
     "output_type": "stream",
     "text": [
      "Epoch 1/6\n",
      "11/11 [==============================] - 157s 13s/step - loss: 0.4872 - accuracy: 0.7741 - precision: 0.7978 - recall: 0.7845 - val_loss: 0.2363 - val_accuracy: 0.9048 - val_precision: 0.8654 - val_recall: 0.9783\n",
      "Epoch 2/6\n",
      "11/11 [==============================] - 150s 14s/step - loss: 0.2123 - accuracy: 0.9157 - precision: 0.9227 - recall: 0.9227 - val_loss: 0.1455 - val_accuracy: 0.9524 - val_precision: 0.9565 - val_recall: 0.9565\n",
      "Epoch 3/6\n",
      "11/11 [==============================] - 162s 15s/step - loss: 0.1368 - accuracy: 0.9337 - precision: 0.9492 - recall: 0.9282 - val_loss: 0.1252 - val_accuracy: 0.9524 - val_precision: 0.9565 - val_recall: 0.9565\n",
      "Epoch 4/6\n",
      "11/11 [==============================] - 180s 17s/step - loss: 0.0524 - accuracy: 0.9880 - precision: 1.0000 - recall: 0.9779 - val_loss: 0.1495 - val_accuracy: 0.9405 - val_precision: 0.9362 - val_recall: 0.9565\n",
      "Epoch 5/6\n",
      "11/11 [==============================] - 179s 17s/step - loss: 0.0226 - accuracy: 0.9970 - precision: 0.9945 - recall: 1.0000 - val_loss: 0.1664 - val_accuracy: 0.9643 - val_precision: 1.0000 - val_recall: 0.9348\n",
      "Epoch 6/6\n",
      "11/11 [==============================] - 171s 16s/step - loss: 0.0071 - accuracy: 1.0000 - precision: 1.0000 - recall: 1.0000 - val_loss: 0.2218 - val_accuracy: 0.9524 - val_precision: 0.9565 - val_recall: 0.9565\n"
     ]
    },
    {
     "data": {
      "text/plain": [
       "<keras.callbacks.History at 0x218ff7648b0>"
      ]
     },
     "execution_count": 31,
     "metadata": {},
     "output_type": "execute_result"
    }
   ],
   "source": [
    "model.fit(X_train, y_train, epochs=6, validation_split=0.2)\n"
   ]
  },
  {
   "cell_type": "code",
   "execution_count": 32,
   "metadata": {
    "colab": {
     "base_uri": "https://localhost:8080/"
    },
    "id": "I3SlIz-sRXNT",
    "outputId": "5c72b6ff-4386-45e6-cf95-a3ccc4ec1b2e",
    "scrolled": true
   },
   "outputs": [
    {
     "name": "stdout",
     "output_type": "stream",
     "text": [
      "5/5 [==============================] - 52s 10s/step - loss: 0.4458 - accuracy: 0.8705 - precision: 0.8630 - recall: 0.8873\n"
     ]
    },
    {
     "data": {
      "text/plain": [
       "[0.44581547379493713,\n",
       " 0.8705036044120789,\n",
       " 0.8630136847496033,\n",
       " 0.8873239159584045]"
      ]
     },
     "execution_count": 32,
     "metadata": {},
     "output_type": "execute_result"
    }
   ],
   "source": [
    "model.evaluate(X_test, y_test)"
   ]
  },
  {
   "cell_type": "code",
   "execution_count": 33,
   "metadata": {
    "colab": {
     "base_uri": "https://localhost:8080/"
    },
    "id": "YvCIVZSQRXNT",
    "outputId": "08b2b104-86bd-4f1c-c0ad-b74e268a0517"
   },
   "outputs": [
    {
     "name": "stdout",
     "output_type": "stream",
     "text": [
      "5/5 [==============================] - 53s 10s/step\n"
     ]
    }
   ],
   "source": [
    "y_predicted = model.predict(X_test)\n",
    "y_predicted = y_predicted.flatten()"
   ]
  },
  {
   "cell_type": "code",
   "execution_count": 34,
   "metadata": {
    "colab": {
     "base_uri": "https://localhost:8080/"
    },
    "id": "Dt509IIIRXNU",
    "outputId": "ad647cb5-6594-4a1d-d58d-a9a4a1131911",
    "scrolled": false
   },
   "outputs": [
    {
     "data": {
      "text/plain": [
       "array([1, 1, 0, 1, 0, 0, 1, 1, 1, 1, 1, 1, 1, 0, 1, 0, 1, 1, 1, 1, 0, 0,\n",
       "       1, 1, 1, 0, 1, 1, 0, 0, 1, 0, 0, 1, 0, 1, 1, 0, 0, 0, 1, 1, 0, 0,\n",
       "       0, 1, 0, 1, 0, 0, 0, 0, 1, 1, 1, 0, 0, 1, 0, 1, 1, 1, 0, 1, 0, 0,\n",
       "       0, 0, 0, 1, 1, 0, 1, 0, 0, 0, 0, 0, 0, 1, 1, 1, 0, 1, 1, 0, 0, 0,\n",
       "       0, 0, 1, 1, 0, 0, 0, 1, 1, 1, 1, 0, 1, 0, 0, 1, 0, 0, 0, 1, 0, 1,\n",
       "       1, 1, 1, 1, 1, 1, 0, 1, 1, 1, 0, 0, 0, 1, 0, 1, 0, 0, 0, 1, 1, 1,\n",
       "       1, 0, 1, 1, 0, 1, 1])"
      ]
     },
     "execution_count": 34,
     "metadata": {},
     "output_type": "execute_result"
    }
   ],
   "source": [
    "import numpy as np\n",
    "\n",
    "y_predicted = np.where(y_predicted > 0.5, 1, 0)\n",
    "y_predicted"
   ]
  },
  {
   "cell_type": "code",
   "execution_count": 35,
   "metadata": {
    "colab": {
     "base_uri": "https://localhost:8080/"
    },
    "id": "ulKDDokURXNU",
    "outputId": "2fc099f5-762f-49c0-c252-7f1f84dd679f"
   },
   "outputs": [
    {
     "data": {
      "text/plain": [
       "array([[58, 10],\n",
       "       [ 8, 63]], dtype=int64)"
      ]
     },
     "execution_count": 35,
     "metadata": {},
     "output_type": "execute_result"
    }
   ],
   "source": [
    "from sklearn.metrics import confusion_matrix, classification_report\n",
    "\n",
    "cm = confusion_matrix(y_test, y_predicted)\n",
    "cm"
   ]
  },
  {
   "cell_type": "code",
   "execution_count": 36,
   "metadata": {
    "colab": {
     "base_uri": "https://localhost:8080/",
     "height": 466
    },
    "id": "tPARIUYgRXNU",
    "outputId": "7ab9340c-1d09-4aaa-8744-e2fcbd904183"
   },
   "outputs": [
    {
     "data": {
      "text/plain": [
       "Text(33.0, 0.5, 'Truth')"
      ]
     },
     "execution_count": 36,
     "metadata": {},
     "output_type": "execute_result"
    },
    {
     "data": {
      "image/png": "[encoded data removed]",
      "text/plain": [
       "<Figure size 432x288 with 2 Axes>"
      ]
     },
     "metadata": {
      "needs_background": "light"
     },
     "output_type": "display_data"
    }
   ],
   "source": [
    "from matplotlib import pyplot as plt\n",
    "import seaborn as sn\n",
    "sn.heatmap(cm, annot=True, fmt='d')\n",
    "plt.xlabel('Predicted')\n",
    "plt.ylabel('Truth')"
   ]
  },
  {
   "cell_type": "code",
   "execution_count": 37,
   "metadata": {
    "colab": {
     "base_uri": "https://localhost:8080/"
    },
    "id": "EA1N877yRXNU",
    "outputId": "54963e11-5ae6-4c8b-cefd-9094c9b8b610"
   },
   "outputs": [
    {
     "name": "stdout",
     "output_type": "stream",
     "text": [
      "              precision    recall  f1-score   support\n",
      "\n",
      "           0       0.88      0.85      0.87        68\n",
      "           1       0.86      0.89      0.88        71\n",
      "\n",
      "    accuracy                           0.87       139\n",
      "   macro avg       0.87      0.87      0.87       139\n",
      "weighted avg       0.87      0.87      0.87       139\n",
      "\n"
     ]
    }
   ],
   "source": [
    "print(classification_report(y_test, y_predicted))"
   ]
  },
  {
   "cell_type": "code",
   "execution_count": 39,
   "metadata": {},
   "outputs": [],
   "source": [
    "model.save(\"hate_speech_classification_model_09_30.h5\")"
   ]
  }
 ],
 "metadata": {
  "accelerator": "TPU",
  "colab": {
   "provenance": []
  },
  "kernelspec": {
   "display_name": "Python 3 (ipykernel)",
   "language": "python",
   "name": "python3"
  },
  "language_info": {
   "codemirror_mode": {
    "name": "ipython",
    "version": 3
   },
   "file_extension": ".py",
   "mimetype": "text/x-python",
   "name": "python",
   "nbconvert_exporter": "python",
   "pygments_lexer": "ipython3",
   "version": "3.10.2"
  }
 },
 "nbformat": 4,
 "nbformat_minor": 1
}
